{
 "cells": [
  {
   "cell_type": "markdown",
   "id": "11a9b19e",
   "metadata": {},
   "source": [
    "Importação de bibliotecas utilizadas"
   ]
  },
  {
   "cell_type": "code",
   "execution_count": 1,
   "id": "76f5b463",
   "metadata": {},
   "outputs": [],
   "source": [
    "import pandas as pd\n",
    "import requests, io"
   ]
  },
  {
   "cell_type": "markdown",
   "id": "0e9a417f",
   "metadata": {},
   "source": [
    "API e criação do dataframe"
   ]
  },
  {
   "cell_type": "code",
   "execution_count": 2,
   "id": "2da9b006",
   "metadata": {},
   "outputs": [],
   "source": [
    "url = 'https://dadosabertos.aneel.gov.br/dataset/cec20fdd-97e4-40a8-870f-c63339f5d8b7/resource/6fbee0f8-2617-4879-a69a-6b7892f12dad/download/capacidade-instalada-geracao-uf.csv'\n",
    "response = requests.get(url)"
   ]
  },
  {
   "cell_type": "code",
   "execution_count": 3,
   "id": "4557c3a6",
   "metadata": {},
   "outputs": [],
   "source": [
    "resposta = response.text\n",
    "Historico = pd.read_csv(io.StringIO(resposta), sep = ';')"
   ]
  },
  {
   "cell_type": "markdown",
   "id": "b857ed89",
   "metadata": {},
   "source": [
    "Criação de uma coluna de datas"
   ]
  },
  {
   "cell_type": "code",
   "execution_count": 4,
   "id": "3d56c251",
   "metadata": {},
   "outputs": [],
   "source": [
    "Historico['Data'] = pd.to_datetime(Historico.AnoReferencia.astype(str) + Historico.MesReferencia.astype(str), format='%Y%m')"
   ]
  },
  {
   "cell_type": "markdown",
   "id": "cb6bf4c2",
   "metadata": {},
   "source": [
    "Eliminação de colunas indesejadas no dataframe"
   ]
  },
  {
   "cell_type": "code",
   "execution_count": 5,
   "id": "5120337e",
   "metadata": {},
   "outputs": [],
   "source": [
    "to_drop =['DatGeracaoConjuntoDados','AnoReferencia', 'MesReferencia','NomUF']\n",
    "Historico.drop(to_drop, axis = 1, inplace = True)"
   ]
  },
  {
   "cell_type": "markdown",
   "id": "23a1bf82",
   "metadata": {},
   "source": [
    "Manipulação de tipos e conversão de kW para MW"
   ]
  },
  {
   "cell_type": "code",
   "execution_count": 6,
   "id": "b712afe3",
   "metadata": {},
   "outputs": [],
   "source": [
    "Historico.MdaPotenciaInstaladakW = Historico.MdaPotenciaInstaladakW.replace(\",\",\".\", regex = True)\n",
    "Historico.MdaPotenciaInstaladakW = Historico.MdaPotenciaInstaladakW.astype(float)/1000\n",
    "Historico.MdaPotenciaInstaladakW = Historico.MdaPotenciaInstaladakW.round()\n",
    "Historico.MdaPotenciaInstaladakW = Historico.MdaPotenciaInstaladakW.astype(int)"
   ]
  },
  {
   "cell_type": "markdown",
   "id": "4f060280",
   "metadata": {},
   "source": [
    "Renomeando colunas do dataframe"
   ]
  },
  {
   "cell_type": "code",
   "execution_count": 7,
   "id": "48921f9f",
   "metadata": {},
   "outputs": [],
   "source": [
    "rename = {'SigUF':'Estado',\n",
    "          'MdaPotenciaInstaladakW':'Capacidade Geração (kW)'}\n",
    "Historico.rename(rename, axis = 1, inplace = True)"
   ]
  }
 ],
 "metadata": {
  "kernelspec": {
   "display_name": "Python 3 (ipykernel)",
   "language": "python",
   "name": "python3"
  },
  "language_info": {
   "codemirror_mode": {
    "name": "ipython",
    "version": 3
   },
   "file_extension": ".py",
   "mimetype": "text/x-python",
   "name": "python",
   "nbconvert_exporter": "python",
   "pygments_lexer": "ipython3",
   "version": "3.12.3"
  }
 },
 "nbformat": 4,
 "nbformat_minor": 5
}
