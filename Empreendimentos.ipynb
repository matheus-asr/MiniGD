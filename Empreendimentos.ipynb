{
 "cells": [
  {
   "cell_type": "markdown",
   "metadata": {},
   "source": [
    "Importando as bibliotecas utilizadas"
   ]
  },
  {
   "cell_type": "code",
   "execution_count": null,
   "metadata": {},
   "outputs": [],
   "source": [
    "import pandas as pd\n",
    "import requests\n",
    "import json"
   ]
  },
  {
   "cell_type": "markdown",
   "metadata": {},
   "source": [
    "API e criação do dataframe"
   ]
  },
  {
   "cell_type": "code",
   "execution_count": null,
   "metadata": {},
   "outputs": [],
   "source": [
    "url_2 = 'https://dadosabertos.aneel.gov.br/api/3/action/datastore_search?resource_id=b1bd71e7-d0ad-4214-9053-cbd58e9564a7&limit=32000&filters={\"DscPorte\":\"Minigeracao\"}'\n",
    "response_2 = requests.get(url_2)"
   ]
  },
  {
   "cell_type": "code",
   "execution_count": null,
   "metadata": {},
   "outputs": [],
   "source": [
    "resp_json = response_2.json()\n",
    "result = resp_json.get('result')\n",
    "records = result.get('records')\n",
    "Empreendimentos = pd.DataFrame(records)"
   ]
  },
  {
   "cell_type": "markdown",
   "metadata": {},
   "source": [
    "Eliminação de colunas indesejadas do dataframe"
   ]
  },
  {
   "cell_type": "code",
   "execution_count": null,
   "metadata": {},
   "outputs": [],
   "source": [
    "to_drop2 = ['_id','AnmPeriodoReferencia','DatGeracaoConjuntoDados','NumCNPJDistribuidora','NomAgente','CodClasseConsumo',\n",
    "            'CodSubGrupoTarifario','codUFibge','codRegiao','CodMunicipioIbge','NomMunicipio','CodCEP','SigTipoConsumidor',\n",
    "            'NumCPFCNPJ','NomTitularUC','CodGD','SigModalidadeEmpreendimento','DscFonteGeracao','NomSubEstacao GEO',\n",
    "            'NumCoordNSub GEO', 'NumCoordEUC', 'NumCoordNUC','NomSubEstacao','NumCoordESub', 'NumCoordESub GEO',\n",
    "            'NumCoordNSub','NomRegiao','DscPorte','NumLatitude', 'NumLongitude']\n",
    "Empreendimentos.drop(to_drop2, axis = 1, inplace = True)"
   ]
  },
  {
   "cell_type": "markdown",
   "metadata": {},
   "source": [
    "Manipulação de tipos e conversão de kW para MW"
   ]
  },
  {
   "cell_type": "code",
   "execution_count": null,
   "metadata": {},
   "outputs": [],
   "source": [
    "Empreendimentos.MdaPotenciaInstaladaKW = Empreendimentos.MdaPotenciaInstaladaKW.replace(',','.', regex = True)\n",
    "Empreendimentos.MdaPotenciaInstaladaKW = pd.to_numeric(Empreendimentos.MdaPotenciaInstaladaKW)/1000\n",
    "Empreendimentos.MdaPotenciaInstaladaKW = Empreendimentos.MdaPotenciaInstaladaKW.round(4)\n",
    "Empreendimentos.MdaPotenciaInstaladaKW = Empreendimentos.MdaPotenciaInstaladaKW.astype(str).str.replace('.',',')"
   ]
  },
  {
   "cell_type": "code",
   "execution_count": null,
   "metadata": {},
   "outputs": [],
   "source": [
    "Empreendimentos.QtdUCRecebeCredito = pd.to_numeric(Empreendimentos.QtdUCRecebeCredito)\n",
    "Empreendimentos.DthAtualizaCadastralEmpreend = pd.to_datetime(Empreendimentos.DthAtualizaCadastralEmpreend)"
   ]
  },
  {
   "cell_type": "markdown",
   "metadata": {},
   "source": [
    "Criação de colunas no dataframe, a partir do mapeamento de outras colunas"
   ]
  },
  {
   "cell_type": "code",
   "execution_count": null,
   "metadata": {},
   "outputs": [],
   "source": [
    "fonte = {'UFV':'Solar',\n",
    "         'UTE':'Térmica',\n",
    "         'CGH':'Hídrica',\n",
    "         'EOL':'Eólica'}\n",
    "Empreendimentos['Fonte'] = Empreendimentos['SigTipoGeracao'].map(fonte)"
   ]
  },
  {
   "cell_type": "code",
   "execution_count": null,
   "metadata": {},
   "outputs": [],
   "source": [
    "modalidade = {'Com Microgeracao ou Minigeracao distribuida':'Autoconsumo local',\n",
    "              'Caracterizada como Autoconsumo remoto':'Autoconsumo remoto',\n",
    "              'Caracterizada como Geracao compartilhada':'Geração compartilhada',\n",
    "              'Integrante de empreendimento de Multiplas UC':'Condomínios'\n",
    "              }\n",
    "Empreendimentos.DscModalidadeHabilitado = Empreendimentos.DscModalidadeHabilitado.map(modalidade)"
   ]
  },
  {
   "cell_type": "markdown",
   "metadata": {},
   "source": [
    "Preenchimento de linhas vazias de acordo com a moda estatística"
   ]
  },
  {
   "cell_type": "code",
   "execution_count": null,
   "metadata": {},
   "outputs": [],
   "source": [
    "Empreendimentos.fillna({'DscModalidadeHabilitado':'Autoconsumo local'}, inplace= True)"
   ]
  },
  {
   "cell_type": "markdown",
   "metadata": {},
   "source": [
    "Adequação de valores"
   ]
  },
  {
   "cell_type": "code",
   "execution_count": null,
   "metadata": {},
   "outputs": [],
   "source": [
    "Empreendimentos.loc[Empreendimentos['DscClasseConsumo'].isin(['Serviço Público','Iluminação pública']),'DscClasseConsumo'] = 'Outros'"
   ]
  },
  {
   "cell_type": "markdown",
   "metadata": {},
   "source": [
    "Renomeando colunas do dataframe"
   ]
  },
  {
   "cell_type": "code",
   "execution_count": null,
   "metadata": {},
   "outputs": [],
   "source": [
    "rename_2 = {'SigAgente':'Concessionária',\n",
    "           'DscClasseConsumo':'Classe Consumidor',\n",
    "           'DscSubGrupoTarifario':'Grupo Tarifário',\n",
    "           'SigUF':'Estado',\n",
    "           'DthAtualizaCadastralEmpreend':'Data Cadastrada',\n",
    "           'QtdUCRecebeCredito':'Qtde UC associadas',\n",
    "           'SigTipoGeracao':'Tipo Geração',\n",
    "           'DscModalidadeHabilitado':'Modalidade',\n",
    "           'MdaPotenciaInstaladaKW':'Potência Instalada (MW)'}\n",
    "Empreendimentos.rename(rename_2, axis = 1, inplace = True)"
   ]
  }
 ],
 "metadata": {
  "kernelspec": {
   "display_name": "Python 3 (ipykernel)",
   "language": "python",
   "name": "python3"
  },
  "language_info": {
   "codemirror_mode": {
    "name": "ipython",
    "version": 3
   },
   "file_extension": ".py",
   "mimetype": "text/x-python",
   "name": "python",
   "nbconvert_exporter": "python",
   "pygments_lexer": "ipython3",
   "version": "3.12.3"
  }
 },
 "nbformat": 4,
 "nbformat_minor": 2
}
